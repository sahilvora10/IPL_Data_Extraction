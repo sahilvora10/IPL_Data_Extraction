{
 "cells": [
  {
   "cell_type": "code",
   "execution_count": 66,
   "metadata": {},
   "outputs": [],
   "source": [
    "import json\n",
    "from numpy import mat\n",
    "import pandas as pd\n",
    "from zipfile import ZipFile\n",
    "import os\n",
    "import requests\n",
    "import kaggle"
   ]
  },
  {
   "cell_type": "code",
   "execution_count": 67,
   "metadata": {},
   "outputs": [],
   "source": [
    "match_list = []\n",
    "byb_list = []\n",
    "match_list_22 = []\n",
    "byb_list_22 = []"
   ]
  },
  {
   "cell_type": "code",
   "execution_count": 68,
   "metadata": {},
   "outputs": [],
   "source": [
    "def get_match_info(data,file_name):\n",
    "    try:\n",
    "        match_info = data['info']\n",
    "        match_info_dict =  {}\n",
    "        match_info_dict['ID'] = int(file_name)\n",
    "        match_info_dict['City'] = match_info['city'] if \"city\" in match_info else 'NA'\n",
    "        match_info_dict['Date'] = match_info['dates'][0]\n",
    "        match_info_dict['Season'] = match_info['season']\n",
    "        match_info_dict['MatchNumber'] = match_info['event']['match_number'] if \"match_number\" in match_info[\"event\"] else match_info['event']['stage']\n",
    "        match_info_dict['Team1'] = match_info['teams'][0]\n",
    "        match_info_dict['Team2'] = match_info['teams'][1]\n",
    "        match_info_dict['Venue'] = match_info['venue']\n",
    "        match_info_dict['TossWinner'] = match_info['toss']['winner']\n",
    "        match_info_dict['TossDecision'] = match_info['toss']['decision']\n",
    "        #TODO\n",
    "        outcome = match_info['outcome']\n",
    "        if (\"result\" in outcome):\n",
    "            # A superover\n",
    "            if outcome['result'] == 'tie':\n",
    "                match_info_dict['SuperOver'] = 'Y'\n",
    "                match_info_dict['WinningTeam'] = outcome['eliminator']\n",
    "                match_info_dict['WonBy'] = 'SuperOver'\n",
    "                match_info_dict['Margin'] = 'NA'\n",
    "            elif outcome['result'] == 'no result':\n",
    "                match_info_dict['SuperOver'] = 'NA'\n",
    "                match_info_dict['WinningTeam'] = 'NA'\n",
    "                match_info_dict['WonBy'] = 'NoResults'\n",
    "                match_info_dict['Margin'] = 'NA'\n",
    "            match_info_dict['method'] = 'NA'\n",
    "\n",
    "        else:\n",
    "            match_info_dict['SuperOver'] = 'N'\n",
    "            match_info_dict['WinningTeam'] = outcome['winner']\n",
    "            if \"wickets\" in outcome['by']:\n",
    "                match_info_dict['WonBy'] = 'Wickets'\n",
    "                match_info_dict['Margin'] = outcome['by']['wickets']\n",
    "            else:\n",
    "                match_info_dict['WonBy'] = 'Runs'\n",
    "                match_info_dict['Margin'] = outcome['by']['runs']\n",
    "            if \"method\" in outcome:\n",
    "                match_info_dict['method'] = outcome['method']\n",
    "            else:\n",
    "                match_info_dict['method'] = 'NA'\n",
    "\n",
    "        match_info_dict['Player_of_Match'] = match_info['player_of_match'][0] if \"player_of_match\" in match_info else 'NA'\n",
    "        match_info_dict['Team1Players'] = match_info['players'][match_info_dict['Team1']]\n",
    "        match_info_dict['Team2Players'] = match_info['players'][match_info_dict['Team2']]\n",
    "        match_info_dict['Umpire1'] = match_info['officials']['umpires'][0]\n",
    "        match_info_dict['Umpire2'] = match_info['officials']['umpires'][1]\n",
    "        if match_info_dict['Season'] == '2022':\n",
    "            match_list_22.append(match_info_dict)\n",
    "        else:\n",
    "            match_list.append(match_info_dict)\n",
    "    except Exception as e:\n",
    "        raise Exception(e)\n"
   ]
  },
  {
   "cell_type": "code",
   "execution_count": 69,
   "metadata": {},
   "outputs": [],
   "source": [
    "def get_ball_by_ball_info(data,file_name):\n",
    "    try:\n",
    "        innings = data['innings']\n",
    "        for i in range(len(innings)):\n",
    "            overs = innings[i]['overs']\n",
    "            for over in overs:\n",
    "                deliveries = over['deliveries']\n",
    "                for d in range(len(deliveries)):\n",
    "                    byb = {}\n",
    "                    byb['ID'] = int(file_name)\n",
    "                    byb['innings'] = i+1\n",
    "                    byb['overs'] = over['over']\n",
    "                    byb['ballnumber'] = d+1\n",
    "                    byb['batter'] = deliveries[d]['batter']\n",
    "                    byb['bowler'] = deliveries[d]['bowler']\n",
    "                    byb['non-striker'] = deliveries[d]['non_striker']\n",
    "                    if \"extras\" in deliveries[d]:\n",
    "                        byb['extra_type'] = list(deliveries[d]['extras'].keys())[0]\n",
    "                    else:\n",
    "                        byb['extra_type'] = 'NA'\n",
    "                    byb['batsman_run'] = deliveries[d]['runs']['batter']\n",
    "                    byb['extras_run'] = deliveries[d]['runs']['extras']\n",
    "                    byb['total_run'] = deliveries[d]['runs']['total']\n",
    "                    byb['non_boundary'] = 1 if \"non_boundary\" in deliveries[d]['runs'] else 0\n",
    "                    if \"wickets\" in deliveries[d]:\n",
    "                        byb['isWicketDelivery'] = 1\n",
    "                        byb['player_out'] = deliveries[d]['wickets'][0]['player_out']\n",
    "                        byb['kind'] = deliveries[d]['wickets'][0]['kind']\n",
    "                        byb['fielders_involved'] = deliveries[d]['wickets'][0]['fielders'][0]['name'] if 'fielders' in deliveries[d]['wickets'][0] else 'NA' \n",
    "                    else:\n",
    "                        byb['isWicketDelivery'] = 0\n",
    "                        byb['player_out'] = 'NA'\n",
    "                        byb['kind'] = 'NA'\n",
    "                        byb['fielders_involved'] = 'NA'\n",
    "                    byb['BattingTeam'] = innings[i]['team']\n",
    "                    if data['info']['season'] == '2022':\n",
    "                        byb_list_22.append(byb)\n",
    "                    else:\n",
    "                        byb_list.append(byb)\n",
    "    except Exception as e:\n",
    "        raise Exception(e)\n"
   ]
  },
  {
   "cell_type": "code",
   "execution_count": 70,
   "metadata": {},
   "outputs": [],
   "source": [
    "def get_data(file_path,file_name):\n",
    "    file_path = file_path.removesuffix('.json')\n",
    "    f = open('%s.json' % file_path)\n",
    "    data = json.load(f)\n",
    "    get_match_info(data,file_name.removesuffix('.json'))\n",
    "    get_ball_by_ball_info(data,file_name.removesuffix('.json'))"
   ]
  },
  {
   "cell_type": "code",
   "execution_count": 71,
   "metadata": {},
   "outputs": [
    {
     "name": "stdout",
     "output_type": "stream",
     "text": [
      "Downloading started\n",
      "ipl_json.zip\n",
      "Downloading Completed\n"
     ]
    }
   ],
   "source": [
    "print('Downloading started')\n",
    "url = \"https://cricsheet.org/downloads/ipl_json.zip\"\n",
    "\n",
    "# Downloading the file by sending the request to the URL\n",
    "req = requests.get(url)\n",
    " \n",
    "# Split URL to get the file name\n",
    "filename = url.split('/')[-1]\n",
    "print(filename)\n",
    "# Writing the file to the local file system\n",
    "with open(filename,'wb') as output_file:\n",
    "    output_file.write(req.content)\n",
    "print('Downloading Completed')"
   ]
  },
  {
   "cell_type": "code",
   "execution_count": 72,
   "metadata": {},
   "outputs": [],
   "source": [
    "parent_path = os.path.abspath(os.path.dirname(os.path.abspath(\"__file__\")))\n"
   ]
  },
  {
   "cell_type": "code",
   "execution_count": 73,
   "metadata": {},
   "outputs": [],
   "source": [
    "with ZipFile(filename,'r') as zip:\n",
    "    zip.extractall('ipl_json')\n",
    "path = \"ipl_json\"\n",
    "os.chdir(path)\n",
    "for file in os.listdir():\n",
    "    try:\n",
    "        if file.endswith(\".json\"):\n",
    "            file_path = f\"{parent_path}\\{path}\\{file}\"\n",
    "            get_data(file_path,file)\n",
    "    except Exception as e:\n",
    "        print(f'Error for file {file} and exception {e}')\n",
    "        continue"
   ]
  },
  {
   "cell_type": "code",
   "execution_count": 74,
   "metadata": {},
   "outputs": [
    {
     "name": "stdout",
     "output_type": "stream",
     "text": [
      "2008-2021\n",
      "876\n",
      "208042\n",
      "2022\n",
      "6\n",
      "1465\n"
     ]
    }
   ],
   "source": [
    "os.chdir(parent_path)\n",
    "print('2008-2021')\n",
    "print(len(match_list))\n",
    "print(len(byb_list))\n",
    "print('2022')\n",
    "print(len(match_list_22))\n",
    "print(len(byb_list_22))\n"
   ]
  },
  {
   "cell_type": "code",
   "execution_count": 75,
   "metadata": {},
   "outputs": [],
   "source": [
    "df = pd.DataFrame(match_list)\n",
    "df = df.sort_values('Date', ascending=False)\n",
    "df.to_csv('IPL_Matches_2008_2021.csv',index=False)\n",
    "\n",
    "df22 = pd.DataFrame(match_list_22)\n",
    "df22 = df22.sort_values('Date', ascending=False)\n",
    "df22.to_csv('ipl_2022/IPL_Matches_2022.csv',index=False)"
   ]
  },
  {
   "cell_type": "code",
   "execution_count": 76,
   "metadata": {},
   "outputs": [],
   "source": [
    "ball_df = pd.DataFrame(byb_list)\n",
    "ball_df = ball_df.sort_values(by=['ID','innings'], ascending=[False,True])\n",
    "ball_df.to_csv('IPL_Ball_by_Ball_2008_2021.csv',index=False)\n",
    "\n",
    "ball_df22 = pd.DataFrame(byb_list_22)\n",
    "ball_df22 = ball_df22.sort_values(by=['ID','innings'], ascending=[False,True])\n",
    "ball_df22.to_csv('ipl_2022/IPL_Ball_by_Ball_2022.csv',index=False)"
   ]
  },
  {
   "cell_type": "code",
   "execution_count": 77,
   "metadata": {},
   "outputs": [
    {
     "name": "stdout",
     "output_type": "stream",
     "text": [
      "Downloaded metadata to ipl_2022\\dataset-metadata.json\n"
     ]
    }
   ],
   "source": [
    "!kaggle datasets metadata -p ipl_2022 vora1011/ipl-2022-match-dataset"
   ]
  },
  {
   "cell_type": "code",
   "execution_count": 78,
   "metadata": {},
   "outputs": [
    {
     "name": "stdout",
     "output_type": "stream",
     "text": [
      "Starting upload for file IPL_Ball_by_Ball_2022.csv"
     ]
    },
    {
     "name": "stderr",
     "output_type": "stream",
     "text": [
      "\n",
      "  0%|          | 0.00/130k [00:00<?, ?B/s]\n",
      "  6%|▌         | 8.00k/130k [00:00<00:04, 30.2kB/s]\n",
      "100%|██████████| 130k/130k [00:05<00:00, 23.2kB/s] \n",
      "\n",
      "  0%|          | 0.00/3.18k [00:00<?, ?B/s]\n",
      "100%|██████████| 3.18k/3.18k [00:00<00:00, 21.0kB/s]\n",
      "100%|██████████| 3.18k/3.18k [00:07<00:00, 463B/s]  \n"
     ]
    },
    {
     "name": "stdout",
     "output_type": "stream",
     "text": [
      "\n",
      "Upload successful: IPL_Ball_by_Ball_2022.csv (130KB)\n",
      "Starting upload for file IPL_Matches_2022.csv\n",
      "Upload successful: IPL_Matches_2022.csv (3KB)\n",
      "Dataset version is being created. Please check progress at https://www.kaggle.com/vora1011/ipl-2022-match-dataset\n"
     ]
    }
   ],
   "source": [
    "!kaggle datasets version -m \"Updated Data\" -p ipl_2022"
   ]
  }
 ],
 "metadata": {
  "interpreter": {
   "hash": "50e6e71039678dc7652134259ab9c4aeb670039fc42bbd0867810ed67d242f6c"
  },
  "kernelspec": {
   "display_name": "Python 3.10.1 64-bit",
   "language": "python",
   "name": "python3"
  },
  "language_info": {
   "codemirror_mode": {
    "name": "ipython",
    "version": 3
   },
   "file_extension": ".py",
   "mimetype": "text/x-python",
   "name": "python",
   "nbconvert_exporter": "python",
   "pygments_lexer": "ipython3",
   "version": "3.10.1"
  },
  "orig_nbformat": 4
 },
 "nbformat": 4,
 "nbformat_minor": 2
}
